{
 "cells": [
  {
   "cell_type": "code",
   "execution_count": 6,
   "id": "fcb5f955",
   "metadata": {},
   "outputs": [
    {
     "ename": "ModuleNotFoundError",
     "evalue": "No module named 'densephrases'",
     "output_type": "error",
     "traceback": [
      "\u001b[0;31m---------------------------------------------------------------------------\u001b[0m",
      "\u001b[0;31mModuleNotFoundError\u001b[0m                       Traceback (most recent call last)",
      "Input \u001b[0;32mIn [6]\u001b[0m, in \u001b[0;36m<cell line: 1>\u001b[0;34m()\u001b[0m\n\u001b[0;32m----> 1\u001b[0m \u001b[38;5;28;01mfrom\u001b[39;00m \u001b[38;5;21;01mdensephrases\u001b[39;00m \u001b[38;5;28;01mimport\u001b[39;00m DensePhrases\n",
      "\u001b[0;31mModuleNotFoundError\u001b[0m: No module named 'densephrases'"
     ]
    }
   ],
   "source": [
    "from densephrases import DensePhrases"
   ]
  },
  {
   "cell_type": "code",
   "execution_count": 4,
   "id": "34309216",
   "metadata": {},
   "outputs": [
    {
     "data": {
      "text/plain": [
       "'/home/ubuntu/nlm/williamyang/DensePhraseRetrieval'"
      ]
     },
     "execution_count": 4,
     "metadata": {},
     "output_type": "execute_result"
    }
   ],
   "source": []
  }
 ],
 "metadata": {
  "kernelspec": {
   "display_name": "densephrases",
   "language": "python",
   "name": "densephrases"
  },
  "language_info": {
   "codemirror_mode": {
    "name": "ipython",
    "version": 3
   },
   "file_extension": ".py",
   "mimetype": "text/x-python",
   "name": "python",
   "nbconvert_exporter": "python",
   "pygments_lexer": "ipython3",
   "version": "3.8.13"
  }
 },
 "nbformat": 4,
 "nbformat_minor": 5
}
