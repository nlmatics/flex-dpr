{
 "cells": [
  {
   "cell_type": "markdown",
   "metadata": {},
   "source": [
    "Implemention of the multiplicative weights algorithm where regular DPR is augmented with phrase encodings of various lengths"
   ]
  },
  {
   "cell_type": "code",
   "execution_count": 58,
   "metadata": {},
   "outputs": [
    {
     "name": "stdout",
     "output_type": "stream",
     "text": [
      "cuda\n"
     ]
    }
   ],
   "source": [
    "from rank_bm25 import BM25Okapi\n",
    "from tqdm import tqdm\n",
    "from nltk.tokenize import word_tokenize\n",
    "import os\n",
    "\n",
    "import numpy as np\n",
    "import json\n",
    "import torch\n",
    "import gzip\n",
    "import matplotlib.pyplot as plt\n",
    "\n",
    "from transformers import DPRContextEncoderTokenizer\n",
    "from transformers import DPRQuestionEncoderTokenizer\n",
    "from transformers import DPRQuestionEncoder\n",
    "from transformers import DPRContextEncoder\n",
    "import csv\n",
    "from transformers import BertModel, BertTokenizer, BertTokenizerFast\n",
    "from torch.nn import CosineSimilarity\n",
    "from torch.nn import Softmax\n",
    "from torch.utils.data import DataLoader, Dataset\n",
    "from nltk import word_tokenize\n",
    "import pandas as pd\n",
    "import random\n",
    "\n",
    "from IPython import embed\n",
    "from sklearn.metrics import classification_report\n",
    "device = torch.device('cuda' if torch.cuda.is_available() else 'cpu') \n",
    "torch.cuda.empty_cache()\n",
    "os.environ['CUDA_VISIBLE_DEVICES'] = \"4,5,6,7\"\n",
    "print(device)"
   ]
  },
  {
   "cell_type": "code",
   "execution_count": 3,
   "metadata": {},
   "outputs": [],
   "source": [
    "class DPR_Dataset(Dataset):\n",
    "    def __init__(self, context_file, question_file, idxs, NQ, map):\n",
    "        context_vals = torch.load(context_file) \n",
    "        question_vals = torch.load(question_file)\n",
    "        self.context_embeds = []\n",
    "        for elem in context_vals:\n",
    "            self.context_embeds.append(torch.reshape(elem, (1, 768)))\n",
    "        self.question_embeds = []\n",
    "        for elem in question_vals:\n",
    "            self.question_embeds.append(torch.reshape(elem, (1, 768)))\n",
    "        self.idxs = idxs\n",
    "        if not NQ:\n",
    "            self.map = map\n",
    "        else:\n",
    "            self.map = {}\n",
    "            for i in range(len(idxs)):\n",
    "                self.map[str(i)] = i\n",
    "    \n",
    "    def __len__(self):\n",
    "        return len(self.idxs)\n",
    "\n",
    "    def __getitem__(self, idx):\n",
    "        batch_ixs = self.idxs[idx]\n",
    "        query_embed = self.question_embeds[idx ]\n",
    "        context_embeds = [self.context_embeds[int(batch_ixs[i])]  for i in range(len(batch_ixs))  ]\n",
    "        label = batch_ixs[0]\n",
    "        return (query_embed, context_embeds, batch_ixs[:], label)\n",
    "        \n",
    "\n",
    "        \n"
   ]
  },
  {
   "cell_type": "code",
   "execution_count": 6,
   "metadata": {},
   "outputs": [],
   "source": [
    "class Phrase_Dataset(Dataset):\n",
    "    def __init__(self, context_file, question_file, idxs, NQ, map):\n",
    "        context_vals = torch.load(context_file) \n",
    "        question_vals = torch.load(question_file)\n",
    "        self.context_embeds = {} #define context vals as dict with keys as passage nums and values in entries as passage encodings\n",
    "        for elem in context_vals:\n",
    "            val = torch.reshape(elem, (1, 769))\n",
    "            if int(val[0][0].item()) not in self.context_embeds.keys():\n",
    "                self.context_embeds[int(val[0][0].item())] = [val]\n",
    "            else:\n",
    "                self.context_embeds[int(val[0][0].item())].append(val)\n",
    "        self.question_embeds = []\n",
    "        for elem in question_vals:\n",
    "            self.question_embeds.append(torch.reshape(elem, (1, 768)))\n",
    "        self.idxs = idxs\n",
    "        if not NQ:\n",
    "            self.map = map\n",
    "        else:\n",
    "            self.map = {}\n",
    "            for i in range(len(idxs)):\n",
    "                self.map[str(i)] = i\n",
    "\n",
    "    def __len__(self):\n",
    "        return len(self.idxs)\n",
    "\n",
    "    def __getitem__(self, idx):\n",
    "        batch_ixs = self.idxs[idx]\n",
    "        query_embed = self.question_embeds[idx]\n",
    "        context_embeds = []\n",
    "        for i in range(len(batch_ixs)):\n",
    "            ind = batch_ixs[i]\n",
    "            for elem in self.context_embeds[int(ind)]:\n",
    "                context_embeds.append(elem)\n",
    "        label = self.map[str(idx)]\n",
    "        return (query_embed, context_embeds, batch_ixs[:], label)\n",
    "\n",
    "    def collate_fn_(self, data):\n",
    "        q_batch = [q[0] for q in data]\n",
    "        c_batch = [c[1] for c in data]\n",
    "        ixs_batch = [i[2] for i in data]\n",
    "        label_batch = [l[3] for l in data]\n",
    "        max_len = max([len(c_batch[j]) for j in range(len(c_batch))])\n",
    "        default = torch.full((1, 769), 0)\n",
    "        for elem in c_batch:\n",
    "            while len(elem) < max_len:\n",
    "                elem.append(default)\n",
    "        return q_batch, c_batch, ixs_batch, label_batch\n"
   ]
  },
  {
   "cell_type": "code",
   "execution_count": 83,
   "metadata": {},
   "outputs": [],
   "source": [
    "test_len = 10\n",
    "def conf_linear(similarities):\n",
    "    if len(similarities) < test_len:\n",
    "        elems = np.sort(similarities)\n",
    "    else:\n",
    "        elems = np.sort(similarities)[-test_len:]\n",
    "    conf = 0\n",
    "    for i in range(-2, -test_len, -1):\n",
    "        conf += elems[-1]-elems[i]\n",
    "    return conf/8\n",
    "\n",
    "def softmax_func(elems):\n",
    "    return np.exp(elems)/np.sum(np.exp(elems))\n",
    "\n",
    "def softmax_grad(first, m, elems, T):\n",
    "    '''\n",
    "    first variable represents the value in the numerator of the softmax function\n",
    "    m is the exponent of the first variable\n",
    "    elems are the original logit values\n",
    "    '''\n",
    "    grad = 0\n",
    "    div_elems = elems/T\n",
    "    p = np.exp(div_elems)\n",
    "    den = np.sum(p)\n",
    "    s1 = 0\n",
    "    for i in range(len(elems)):\n",
    "        s1 += elems[i]*p[i]\n",
    "    s1 *= first/(T*den)**2\n",
    "    s2 = m*first/((T**2)*den)\n",
    "    return s1-s2\n",
    "\n",
    "def conf_softmax(similarities, T=1):\n",
    "    '''\n",
    "    This confidence measure includes calirbation of the logits with temperature scaling\n",
    "    '''\n",
    "    if len(similarities) < test_len:\n",
    "        elems = np.sort(similarities)\n",
    "    else:\n",
    "        elems = np.sort(similarities)[-test_len:]\n",
    "    div_elems = elems/T\n",
    "    calb_vals = softmax_func(div_elems)\n",
    "    grad = 0\n",
    "    conf = calb_vals[-1]\n",
    "    grad = softmax_grad(calb_vals[-1], elems[-1], elems[:], T)\n",
    "    # for i in range(-2, -test_len, -1):\n",
    "    #     conf += calb_vals[-1]-calb_vals[i]\n",
    "    #     grad += softmax_grad(calb_vals[-1], elems[-1], elems[:], T)-softmax_grad(calb_vals[i], elems[i], elems, T)\n",
    "    return conf, grad\n",
    "\n",
    "def run_DensePhraseRet(query_embed, context_embeds, ixs, confidence_func, T=1):\n",
    "    similarities = []\n",
    "    for i in range(len(context_embeds)):\n",
    "        context_val = context_embeds[i][0][1:]\n",
    "        similarities.append( (torch.dot(query_embed[0], context_val)/torch.norm(context_val)).to(float).cpu())\n",
    "    similarities = np.array(similarities)\n",
    "    similarities = np.where(np.isnan(similarities), 0, similarities)\n",
    "    return int(context_embeds[np.argmax(np.array(similarities))][0][0]), confidence_func(similarities, T)\n",
    "\n",
    "def run_DPR(query_embed, context_embeds, ixs, confidence_func, T=1):\n",
    "    similarities = []\n",
    "    for i in range(len(context_embeds)):\n",
    "        context_val = context_embeds[i][0]\n",
    "        similarities.append( (torch.dot(query_embed[0], context_val)/torch.norm(context_val )).to(float).cpu())\n",
    "    similarities = np.array(similarities)\n",
    "    return int(ixs[np.argmax(similarities)]), confidence_func(similarities, T)\n"
   ]
  },
  {
   "cell_type": "code",
   "execution_count": 8,
   "metadata": {},
   "outputs": [],
   "source": [
    "def vec_DensePhraseRet(query_embed, context_embeds, ix_map, T=1):\n",
    "    similarities = {}\n",
    "    for i in range(len(context_embeds)):\n",
    "        context_val = context_embeds[i][0][1:]\n",
    "        val = torch.dot(query_embed[0], context_val)/torch.norm(context_val)\n",
    "        if int(context_embeds[i][0][0]) not in similarities.keys():\n",
    "            similarities[int(context_embeds[i][0][0])] = [val]\n",
    "        else:\n",
    "            similarities[int(context_embeds[i][0][0])].append(val)\n",
    "    similarities = [(k, sum(similarities[k])/len(similarities[k])) for k in similarities.keys()]\n",
    "    s = [0 for _ in range(len(ix_map.keys()))]\n",
    "    for m in range(len(similarities)):\n",
    "        # print(m, ix_map[similarities[m][0]], len(s))\n",
    "        s[ix_map[similarities[m][0]]] = similarities[m][1]\n",
    "    s = np.array(s)\n",
    "    s = s/T\n",
    "    calb_vals = softmax_func(s)\n",
    "    return calb_vals\n",
    "    \n",
    "\n",
    "def vec_DPR(query_embed, context_embeds, ixs, T=1):\n",
    "    similarities = []\n",
    "    for i in range(len(context_embeds)):\n",
    "        similarities.append( torch.dot(query_embed[0], context_embeds[i][0])/torch.norm(context_embeds[i][0]) )\n",
    "    similarities = np.array(similarities)\n",
    "    similarities = similarities/T\n",
    "    calb_vals = softmax_func(similarities)\n",
    "    return calb_vals\n",
    "    \n",
    "\n",
    "def syn_DPR(phrase_lens, q_embeds, c_embeds, ixs, temp):\n",
    "    sims = np.zeros(len(ixs))\n",
    "    ix_map = {int(ixs[i]):i for i in range(len(ixs))}\n",
    "    for i in range(len(phrase_lens)):\n",
    "        if phrase_lens[i] == 0:\n",
    "            sims = sims + vec_DPR(q_embeds[i], c_embeds[i], ixs, temp)\n",
    "        else:\n",
    "            sims = sims + vec_DensePhraseRet(q_embeds[i], c_embeds[i], ix_map, temp)\n",
    "    return sims.argsort()[::-1]"
   ]
  },
  {
   "cell_type": "code",
   "execution_count": 9,
   "metadata": {},
   "outputs": [],
   "source": [
    "def NQ_processing(idx_f):\n",
    "    rows = []\n",
    "    with open(idx_f, newline='') as idx_file:\n",
    "        for line in csv.reader(idx_file):\n",
    "            rows.append(list(line))\n",
    "    idx_file.close()\n",
    "    return rows\n",
    "\n",
    "def concat_dataloader(generators):\n",
    "    while True:\n",
    "        return_val = []\n",
    "        try:\n",
    "            for gen in generators:\n",
    "                return_val.append(gen.next())\n",
    "            yield return_val\n",
    "        except:\n",
    "            yield None\n",
    "    "
   ]
  },
  {
   "cell_type": "code",
   "execution_count": 12,
   "metadata": {},
   "outputs": [],
   "source": [
    "#For Training Datasets\n",
    "i = 0\n",
    "phrase_lens = [0, 75, 125]\n",
    "question_file = f\"/home/ubuntu/nlm/williamyang/DPR_Preprocess_Data/train/question-{i}-embeds\"\n",
    "context_file_list = []\n",
    "for phrase_len in phrase_lens:\n",
    "    if phrase_len == 0: context_file_list.append(f\"/home/ubuntu/nlm/williamyang/DPR_Preprocess_Data/train/context-{i}-embeds\")\n",
    "    else: context_file_list.append(f\"/home/ubuntu/nlm/williamyang/DPR_Preprocess_Data/train/context-{i}-{phrase_len}-embeds\")\n",
    "idx_file = f\"/home/ubuntu/nlm/williamyang/DPR_Preprocess_Data/train/nq-train-ix-{i}.csv\""
   ]
  },
  {
   "cell_type": "code",
   "execution_count": 61,
   "metadata": {},
   "outputs": [],
   "source": [
    "#For Dev Datasets\n",
    "i = 0\n",
    "phrase_lens = [0, 75, 125]\n",
    "question_file = f\"/home/ubuntu/nlm/williamyang/DPR_Preprocess_Data/dev/question-{i}-embeds\"\n",
    "context_file_list = []\n",
    "for phrase_len in phrase_lens:\n",
    "    if phrase_len == 0: context_file_list.append(f\"/home/ubuntu/nlm/williamyang/DPR_Preprocess_Data/dev/context-{i}-embeds\")\n",
    "    else: context_file_list.append(f\"/home/ubuntu/nlm/williamyang/DPR_Preprocess_Data/dev/context-{i}-{phrase_len}-embeds\")\n",
    "idx_file = f\"/home/ubuntu/nlm/williamyang/DPR_Preprocess_Data/dev/nq-dev-ix-{i}.csv\""
   ]
  },
  {
   "cell_type": "code",
   "execution_count": 50,
   "metadata": {},
   "outputs": [],
   "source": [
    "#FOR SQUAD\n",
    "phrase_lens = [1, 0, 5]\n",
    "context_file_list = []\n",
    "question_file = \"/home/ubuntu/nlm/williamyang/DPR_Preprocess_Data/squad/dev-questions\"\n",
    "for length in phrase_lens:\n",
    "    context_file_list.append(f\"/home/ubuntu/nlm/williamyang/DPR_Preprocess_Data/squad/dev-contexts-{length}\")\n",
    "idx_file = \"/home/ubuntu/nlm/williamyang/DPR_Preprocess_Data/squad/dev_ixs.csv\""
   ]
  },
  {
   "cell_type": "code",
   "execution_count": 15,
   "metadata": {},
   "outputs": [],
   "source": [
    "#FOR PUBMED\n",
    "phrase_lens = [1, 3, 0]\n",
    "context_file_list = []\n",
    "question_file = \"/home/ubuntu/nlm/williamyang/DPR_Preprocess_Data/pubmed/dev-questions\"\n",
    "for length in phrase_lens:\n",
    "    context_file_list.append(f\"/home/ubuntu/nlm/williamyang/DPR_Preprocess_Data/pubmed/dev-contexts-{length}\")\n",
    "idx_file = \"/home/ubuntu/nlm/noah/pubmed/small_ix.csv\"\n"
   ]
  },
  {
   "cell_type": "code",
   "execution_count": 84,
   "metadata": {},
   "outputs": [],
   "source": [
    "#FOR SCOTUS\n",
    "phrase_lens = [3, 1, 5]\n",
    "context_file_list = []\n",
    "question_file = \"/home/ubuntu/nlm/williamyang/DPR_Preprocess_Data/scotus/dev-questions\"\n",
    "for length in phrase_lens:\n",
    "    context_file_list.append(f\"/home/ubuntu/nlm/williamyang/DPR_Preprocess_Data/scotus/dev-contexts-{length}\")\n",
    "idx_file = \"/home/ubuntu/nlm/noah/scotus/dev_ix.csv\"\n"
   ]
  },
  {
   "cell_type": "code",
   "execution_count": 30,
   "metadata": {},
   "outputs": [],
   "source": [
    "#For NFCORPUS\n",
    "phrase_lens = [1, 3, 5, 0]\n",
    "context_file_list = []\n",
    "question_file = \"/home/ubuntu/nlm/williamyang/DPR_Preprocess_Data/nfcorpus/dev-questions\"\n",
    "for length in phrase_lens:\n",
    "    context_file_list.append( f\"/home/ubuntu/nlm/williamyang/DPR_Preprocess_Data/nfcorpus/dev-contexts-{length}\")\n",
    "idx_file = \"/home/ubuntu/nlm/noah/nfcorpus/dev-clean_ix.csv\""
   ]
  },
  {
   "cell_type": "code",
   "execution_count": 30,
   "metadata": {},
   "outputs": [],
   "source": [
    "#FOR P_RANK\n",
    "phrase_lens = [0, 1, 2]\n",
    "context_file_list = []\n",
    "question_file = \"/home/ubuntu/nlm/williamyang/DPR_Preprocess_Data/p_rank/dev-questions\"\n",
    "for length in phrase_lens:\n",
    "    context_file_list.append( f\"/home/ubuntu/nlm/williamyang/DPR_Preprocess_Data/p_rank/dev-contexts-{length}\")\n",
    "idx_file = \"/home/ubuntu/nlm/noah/nfcorpus/dev-clean_ix.csv\"\n",
    "\n",
    "\n"
   ]
  },
  {
   "cell_type": "code",
   "execution_count": 62,
   "metadata": {},
   "outputs": [],
   "source": [
    "#NOT SQUAD DATASETS\n",
    "rows = NQ_processing(idx_file)\n",
    "datasets = []\n",
    "for i in range(len(phrase_lens)):\n",
    "    if phrase_lens[i] == 0:\n",
    "        datasets.append(DPR_Dataset(context_file_list[i], question_file, rows, True, []))\n",
    "    else:\n",
    "        datasets.append(Phrase_Dataset(context_file_list[i], question_file, rows, True, []))"
   ]
  },
  {
   "cell_type": "code",
   "execution_count": 85,
   "metadata": {},
   "outputs": [],
   "source": [
    "#SQUAD/SCOTUS\n",
    "rows = NQ_processing(idx_file)\n",
    "#file_name = \"/home/ubuntu/nlm/williamyang/DPR_Preprocess_Data/squad/dev-clean.json\"\n",
    "file_name = \"/home/ubuntu/nlm/noah/scotus/dev.json\"\n",
    "with open(file_name) as file: \n",
    "    data = json.load(file)\n",
    "QC_map = data['map']\n",
    "datasets = []\n",
    "for i in range(len(phrase_lens)):\n",
    "    if phrase_lens[i] == 0:\n",
    "        datasets.append(DPR_Dataset(context_file_list[i], question_file, rows, False, QC_map))\n",
    "    else:\n",
    "        datasets.append(Phrase_Dataset(context_file_list[i], question_file, rows, False, QC_map))\n"
   ]
  },
  {
   "cell_type": "code",
   "execution_count": 31,
   "metadata": {},
   "outputs": [],
   "source": [
    "#FOR P_RANK\n",
    "rows = [[i for i in range(100)]]\n",
    "datasets = []\n",
    "for i in range(len(phrase_lens)):\n",
    "    if phrase_lens[i] == 0:\n",
    "        datasets.append(DPR_Dataset(context_file_list[i], question_file, rows, True, []))\n",
    "    else:\n",
    "        datasets.append(Phrase_Dataset(context_file_list[i], question_file, rows, True, []))\n"
   ]
  },
  {
   "cell_type": "code",
   "execution_count": 12,
   "metadata": {},
   "outputs": [],
   "source": [
    "\n",
    "def update_batch(preds, batch_acc, label):\n",
    "    for i in range(len(preds)):\n",
    "        if preds[i] == label:\n",
    "            batch_acc.append(1)\n",
    "        else:\n",
    "            batch_acc.append(0)\n",
    "\n",
    "def update_bins(bins, preds, confs, increments, label):\n",
    "    for j in range(len(confs)):\n",
    "        c = confs[j][0]\n",
    "        for i in range(1, increments+1):\n",
    "            if c <= i*1/increments:\n",
    "                bins[i*1/increments]['grads'].append(confs[j][1])\n",
    "                bins[i*1/increments]['confs'].append(c)\n",
    "                if preds[j] == label: bins[i*1/increments]['acc'] += 1\n",
    "                break\n",
    "\n",
    "def calc_bin_loss(bins):\n",
    "    loss = 0\n",
    "    grad = 0\n",
    "    N = 0\n",
    "    for k in bins.keys():\n",
    "        N += len(bins[k]['confs'])\n",
    "    for t in bins.keys():\n",
    "        if len(bins[t]['confs']) == 0: continue\n",
    "        avg_conf = sum(bins[t]['confs'])/len(bins[t]['confs'])\n",
    "        avg_grad = sum(bins[t]['grads'])/len(bins[t]['grads'])\n",
    "        acc = bins[t]['acc']/len(bins[t]['confs'])\n",
    "        grad += len(bins[t]['confs'])/N*(avg_conf-acc)*avg_grad\n",
    "        loss += len(bins[t]['confs'])/N*(avg_conf-acc)**2\n",
    "    return loss, grad"
   ]
  },
  {
   "cell_type": "code",
   "execution_count": 63,
   "metadata": {},
   "outputs": [],
   "source": [
    "#REGULAR NO BATCH MUF\n",
    "def eval(T_init):\n",
    "    y_pred = []\n",
    "    y_label = []\n",
    "    batch_conf = []\n",
    "    batch_acc = []\n",
    "    conf_func = conf_softmax\n",
    "    temp = T_init\n",
    "    step = 100\n",
    "    increments = 10\n",
    "    bins = {i/increments: {\"confs\": [], \"acc\": 0, \"grads\": []} for i in range(1, increments+1)}\n",
    "    for i in tqdm(range(len(rows))):\n",
    "        # if i == 2: break\n",
    "        preds = []\n",
    "        for d in range(len(phrase_lens)):\n",
    "            query, context, ixs, label = datasets[d][i]\n",
    "            if phrase_lens[d] == 0:\n",
    "                preds.append(run_DPR(query, context, ixs, conf_func, temp))\n",
    "            else:\n",
    "                preds.append(run_DensePhraseRet(query, context, ixs, conf_func, temp))\n",
    "        confs = np.array([elem[1][0] for elem in preds])\n",
    "        conf_grads = np.array([en[1][1] for en in preds])\n",
    "        np.where(np.isnan(conf_grads), 0, conf_grads)\n",
    "        np.where(np.isnan(confs), 0, confs)\n",
    "        cum_data = np.array(list(zip(confs, conf_grads)))\n",
    "        confs = list(confs)\n",
    "        pred = preds[confs.index(max(confs))][0]\n",
    "        update_bins(bins, preds, cum_data, increments, label)\n",
    "        y_pred.append(int(pred))\n",
    "        y_label.append(int(label))\n",
    "        if i%int(len(rows)/10) == 0 and i != 0:\n",
    "            loss, grad = calc_bin_loss(bins)\n",
    "            temp += float(step*grad)\n",
    "            bins = {i/increments: {\"confs\": [], \"acc\": 0, \"grads\": []} for i in range(1, increments+1)}\n",
    "\n",
    "    return classification_report(y_label, y_pred, digits=4, output_dict=True)['macro avg']['f1-score']\n",
    "        \n",
    "        "
   ]
  },
  {
   "cell_type": "code",
   "execution_count": 86,
   "metadata": {},
   "outputs": [
    {
     "name": "stdout",
     "output_type": "stream",
     "text": [
      "0.039810717055349734\n"
     ]
    },
    {
     "name": "stderr",
     "output_type": "stream",
     "text": [
      "100%|██████████| 271/271 [00:48<00:00,  5.56it/s]\n",
      "/usr/local/lib/python3.6/dist-packages/sklearn/metrics/_classification.py:1248: UndefinedMetricWarning: Precision and F-score are ill-defined and being set to 0.0 in labels with no predicted samples. Use `zero_division` parameter to control this behavior.\n",
      "  _warn_prf(average, modifier, msg_start, len(result))\n",
      "/usr/local/lib/python3.6/dist-packages/sklearn/metrics/_classification.py:1248: UndefinedMetricWarning: Precision and F-score are ill-defined and being set to 0.0 in labels with no predicted samples. Use `zero_division` parameter to control this behavior.\n",
      "  _warn_prf(average, modifier, msg_start, len(result))\n",
      "/usr/local/lib/python3.6/dist-packages/sklearn/metrics/_classification.py:1248: UndefinedMetricWarning: Precision and F-score are ill-defined and being set to 0.0 in labels with no predicted samples. Use `zero_division` parameter to control this behavior.\n",
      "  _warn_prf(average, modifier, msg_start, len(result))\n"
     ]
    },
    {
     "name": "stdout",
     "output_type": "stream",
     "text": [
      "0.06309573444801933\n"
     ]
    },
    {
     "name": "stderr",
     "output_type": "stream",
     "text": [
      "100%|██████████| 271/271 [00:48<00:00,  5.57it/s]\n",
      "/usr/local/lib/python3.6/dist-packages/sklearn/metrics/_classification.py:1248: UndefinedMetricWarning: Precision and F-score are ill-defined and being set to 0.0 in labels with no predicted samples. Use `zero_division` parameter to control this behavior.\n",
      "  _warn_prf(average, modifier, msg_start, len(result))\n",
      "/usr/local/lib/python3.6/dist-packages/sklearn/metrics/_classification.py:1248: UndefinedMetricWarning: Precision and F-score are ill-defined and being set to 0.0 in labels with no predicted samples. Use `zero_division` parameter to control this behavior.\n",
      "  _warn_prf(average, modifier, msg_start, len(result))\n",
      "/usr/local/lib/python3.6/dist-packages/sklearn/metrics/_classification.py:1248: UndefinedMetricWarning: Precision and F-score are ill-defined and being set to 0.0 in labels with no predicted samples. Use `zero_division` parameter to control this behavior.\n",
      "  _warn_prf(average, modifier, msg_start, len(result))\n"
     ]
    },
    {
     "name": "stdout",
     "output_type": "stream",
     "text": [
      "0.1\n"
     ]
    },
    {
     "name": "stderr",
     "output_type": "stream",
     "text": [
      "100%|██████████| 271/271 [00:48<00:00,  5.61it/s]\n",
      "/usr/local/lib/python3.6/dist-packages/sklearn/metrics/_classification.py:1248: UndefinedMetricWarning: Precision and F-score are ill-defined and being set to 0.0 in labels with no predicted samples. Use `zero_division` parameter to control this behavior.\n",
      "  _warn_prf(average, modifier, msg_start, len(result))\n",
      "/usr/local/lib/python3.6/dist-packages/sklearn/metrics/_classification.py:1248: UndefinedMetricWarning: Precision and F-score are ill-defined and being set to 0.0 in labels with no predicted samples. Use `zero_division` parameter to control this behavior.\n",
      "  _warn_prf(average, modifier, msg_start, len(result))\n",
      "/usr/local/lib/python3.6/dist-packages/sklearn/metrics/_classification.py:1248: UndefinedMetricWarning: Precision and F-score are ill-defined and being set to 0.0 in labels with no predicted samples. Use `zero_division` parameter to control this behavior.\n",
      "  _warn_prf(average, modifier, msg_start, len(result))\n"
     ]
    },
    {
     "name": "stdout",
     "output_type": "stream",
     "text": [
      "0.15848931924611134\n"
     ]
    },
    {
     "name": "stderr",
     "output_type": "stream",
     "text": [
      "100%|██████████| 271/271 [00:48<00:00,  5.59it/s]\n",
      "/usr/local/lib/python3.6/dist-packages/sklearn/metrics/_classification.py:1248: UndefinedMetricWarning: Precision and F-score are ill-defined and being set to 0.0 in labels with no predicted samples. Use `zero_division` parameter to control this behavior.\n",
      "  _warn_prf(average, modifier, msg_start, len(result))\n",
      "/usr/local/lib/python3.6/dist-packages/sklearn/metrics/_classification.py:1248: UndefinedMetricWarning: Precision and F-score are ill-defined and being set to 0.0 in labels with no predicted samples. Use `zero_division` parameter to control this behavior.\n",
      "  _warn_prf(average, modifier, msg_start, len(result))\n",
      "/usr/local/lib/python3.6/dist-packages/sklearn/metrics/_classification.py:1248: UndefinedMetricWarning: Precision and F-score are ill-defined and being set to 0.0 in labels with no predicted samples. Use `zero_division` parameter to control this behavior.\n",
      "  _warn_prf(average, modifier, msg_start, len(result))\n"
     ]
    },
    {
     "name": "stdout",
     "output_type": "stream",
     "text": [
      "0.251188643150958\n"
     ]
    },
    {
     "name": "stderr",
     "output_type": "stream",
     "text": [
      "100%|██████████| 271/271 [00:48<00:00,  5.64it/s]\n",
      "/usr/local/lib/python3.6/dist-packages/sklearn/metrics/_classification.py:1248: UndefinedMetricWarning: Precision and F-score are ill-defined and being set to 0.0 in labels with no predicted samples. Use `zero_division` parameter to control this behavior.\n",
      "  _warn_prf(average, modifier, msg_start, len(result))\n",
      "/usr/local/lib/python3.6/dist-packages/sklearn/metrics/_classification.py:1248: UndefinedMetricWarning: Precision and F-score are ill-defined and being set to 0.0 in labels with no predicted samples. Use `zero_division` parameter to control this behavior.\n",
      "  _warn_prf(average, modifier, msg_start, len(result))\n",
      "/usr/local/lib/python3.6/dist-packages/sklearn/metrics/_classification.py:1248: UndefinedMetricWarning: Precision and F-score are ill-defined and being set to 0.0 in labels with no predicted samples. Use `zero_division` parameter to control this behavior.\n",
      "  _warn_prf(average, modifier, msg_start, len(result))\n"
     ]
    },
    {
     "name": "stdout",
     "output_type": "stream",
     "text": [
      "0.3981071705534972\n"
     ]
    },
    {
     "name": "stderr",
     "output_type": "stream",
     "text": [
      "100%|██████████| 271/271 [00:48<00:00,  5.60it/s]\n",
      "/usr/local/lib/python3.6/dist-packages/sklearn/metrics/_classification.py:1248: UndefinedMetricWarning: Precision and F-score are ill-defined and being set to 0.0 in labels with no predicted samples. Use `zero_division` parameter to control this behavior.\n",
      "  _warn_prf(average, modifier, msg_start, len(result))\n",
      "/usr/local/lib/python3.6/dist-packages/sklearn/metrics/_classification.py:1248: UndefinedMetricWarning: Precision and F-score are ill-defined and being set to 0.0 in labels with no predicted samples. Use `zero_division` parameter to control this behavior.\n",
      "  _warn_prf(average, modifier, msg_start, len(result))\n",
      "/usr/local/lib/python3.6/dist-packages/sklearn/metrics/_classification.py:1248: UndefinedMetricWarning: Precision and F-score are ill-defined and being set to 0.0 in labels with no predicted samples. Use `zero_division` parameter to control this behavior.\n",
      "  _warn_prf(average, modifier, msg_start, len(result))\n"
     ]
    },
    {
     "name": "stdout",
     "output_type": "stream",
     "text": [
      "0.6309573444801932\n"
     ]
    },
    {
     "name": "stderr",
     "output_type": "stream",
     "text": [
      "100%|██████████| 271/271 [00:48<00:00,  5.61it/s]\n",
      "/usr/local/lib/python3.6/dist-packages/sklearn/metrics/_classification.py:1248: UndefinedMetricWarning: Precision and F-score are ill-defined and being set to 0.0 in labels with no predicted samples. Use `zero_division` parameter to control this behavior.\n",
      "  _warn_prf(average, modifier, msg_start, len(result))\n",
      "/usr/local/lib/python3.6/dist-packages/sklearn/metrics/_classification.py:1248: UndefinedMetricWarning: Precision and F-score are ill-defined and being set to 0.0 in labels with no predicted samples. Use `zero_division` parameter to control this behavior.\n",
      "  _warn_prf(average, modifier, msg_start, len(result))\n",
      "/usr/local/lib/python3.6/dist-packages/sklearn/metrics/_classification.py:1248: UndefinedMetricWarning: Precision and F-score are ill-defined and being set to 0.0 in labels with no predicted samples. Use `zero_division` parameter to control this behavior.\n",
      "  _warn_prf(average, modifier, msg_start, len(result))\n"
     ]
    },
    {
     "name": "stdout",
     "output_type": "stream",
     "text": [
      "1.0\n"
     ]
    },
    {
     "name": "stderr",
     "output_type": "stream",
     "text": [
      "100%|██████████| 271/271 [00:48<00:00,  5.61it/s]\n",
      "/usr/local/lib/python3.6/dist-packages/sklearn/metrics/_classification.py:1248: UndefinedMetricWarning: Precision and F-score are ill-defined and being set to 0.0 in labels with no predicted samples. Use `zero_division` parameter to control this behavior.\n",
      "  _warn_prf(average, modifier, msg_start, len(result))\n",
      "/usr/local/lib/python3.6/dist-packages/sklearn/metrics/_classification.py:1248: UndefinedMetricWarning: Precision and F-score are ill-defined and being set to 0.0 in labels with no predicted samples. Use `zero_division` parameter to control this behavior.\n",
      "  _warn_prf(average, modifier, msg_start, len(result))\n",
      "/usr/local/lib/python3.6/dist-packages/sklearn/metrics/_classification.py:1248: UndefinedMetricWarning: Precision and F-score are ill-defined and being set to 0.0 in labels with no predicted samples. Use `zero_division` parameter to control this behavior.\n",
      "  _warn_prf(average, modifier, msg_start, len(result))\n"
     ]
    },
    {
     "name": "stdout",
     "output_type": "stream",
     "text": [
      "1.5848931924611136\n"
     ]
    },
    {
     "name": "stderr",
     "output_type": "stream",
     "text": [
      "100%|██████████| 271/271 [00:48<00:00,  5.62it/s]\n",
      "/usr/local/lib/python3.6/dist-packages/sklearn/metrics/_classification.py:1248: UndefinedMetricWarning: Precision and F-score are ill-defined and being set to 0.0 in labels with no predicted samples. Use `zero_division` parameter to control this behavior.\n",
      "  _warn_prf(average, modifier, msg_start, len(result))\n",
      "/usr/local/lib/python3.6/dist-packages/sklearn/metrics/_classification.py:1248: UndefinedMetricWarning: Precision and F-score are ill-defined and being set to 0.0 in labels with no predicted samples. Use `zero_division` parameter to control this behavior.\n",
      "  _warn_prf(average, modifier, msg_start, len(result))\n",
      "/usr/local/lib/python3.6/dist-packages/sklearn/metrics/_classification.py:1248: UndefinedMetricWarning: Precision and F-score are ill-defined and being set to 0.0 in labels with no predicted samples. Use `zero_division` parameter to control this behavior.\n",
      "  _warn_prf(average, modifier, msg_start, len(result))\n"
     ]
    },
    {
     "name": "stdout",
     "output_type": "stream",
     "text": [
      "2.51188643150958\n"
     ]
    },
    {
     "name": "stderr",
     "output_type": "stream",
     "text": [
      "100%|██████████| 271/271 [00:48<00:00,  5.58it/s]\n",
      "/usr/local/lib/python3.6/dist-packages/sklearn/metrics/_classification.py:1248: UndefinedMetricWarning: Precision and F-score are ill-defined and being set to 0.0 in labels with no predicted samples. Use `zero_division` parameter to control this behavior.\n",
      "  _warn_prf(average, modifier, msg_start, len(result))\n",
      "/usr/local/lib/python3.6/dist-packages/sklearn/metrics/_classification.py:1248: UndefinedMetricWarning: Precision and F-score are ill-defined and being set to 0.0 in labels with no predicted samples. Use `zero_division` parameter to control this behavior.\n",
      "  _warn_prf(average, modifier, msg_start, len(result))\n",
      "/usr/local/lib/python3.6/dist-packages/sklearn/metrics/_classification.py:1248: UndefinedMetricWarning: Precision and F-score are ill-defined and being set to 0.0 in labels with no predicted samples. Use `zero_division` parameter to control this behavior.\n",
      "  _warn_prf(average, modifier, msg_start, len(result))\n"
     ]
    },
    {
     "name": "stdout",
     "output_type": "stream",
     "text": [
      "3.9810717055349722\n"
     ]
    },
    {
     "name": "stderr",
     "output_type": "stream",
     "text": [
      "100%|██████████| 271/271 [00:48<00:00,  5.62it/s]\n",
      "/usr/local/lib/python3.6/dist-packages/sklearn/metrics/_classification.py:1248: UndefinedMetricWarning: Precision and F-score are ill-defined and being set to 0.0 in labels with no predicted samples. Use `zero_division` parameter to control this behavior.\n",
      "  _warn_prf(average, modifier, msg_start, len(result))\n",
      "/usr/local/lib/python3.6/dist-packages/sklearn/metrics/_classification.py:1248: UndefinedMetricWarning: Precision and F-score are ill-defined and being set to 0.0 in labels with no predicted samples. Use `zero_division` parameter to control this behavior.\n",
      "  _warn_prf(average, modifier, msg_start, len(result))\n",
      "/usr/local/lib/python3.6/dist-packages/sklearn/metrics/_classification.py:1248: UndefinedMetricWarning: Precision and F-score are ill-defined and being set to 0.0 in labels with no predicted samples. Use `zero_division` parameter to control this behavior.\n",
      "  _warn_prf(average, modifier, msg_start, len(result))\n"
     ]
    },
    {
     "name": "stdout",
     "output_type": "stream",
     "text": [
      "6.309573444801933\n"
     ]
    },
    {
     "name": "stderr",
     "output_type": "stream",
     "text": [
      "100%|██████████| 271/271 [00:48<00:00,  5.60it/s]\n",
      "/usr/local/lib/python3.6/dist-packages/sklearn/metrics/_classification.py:1248: UndefinedMetricWarning: Precision and F-score are ill-defined and being set to 0.0 in labels with no predicted samples. Use `zero_division` parameter to control this behavior.\n",
      "  _warn_prf(average, modifier, msg_start, len(result))\n",
      "/usr/local/lib/python3.6/dist-packages/sklearn/metrics/_classification.py:1248: UndefinedMetricWarning: Precision and F-score are ill-defined and being set to 0.0 in labels with no predicted samples. Use `zero_division` parameter to control this behavior.\n",
      "  _warn_prf(average, modifier, msg_start, len(result))\n",
      "/usr/local/lib/python3.6/dist-packages/sklearn/metrics/_classification.py:1248: UndefinedMetricWarning: Precision and F-score are ill-defined and being set to 0.0 in labels with no predicted samples. Use `zero_division` parameter to control this behavior.\n",
      "  _warn_prf(average, modifier, msg_start, len(result))\n"
     ]
    },
    {
     "name": "stdout",
     "output_type": "stream",
     "text": [
      "10.0\n"
     ]
    },
    {
     "name": "stderr",
     "output_type": "stream",
     "text": [
      "100%|██████████| 271/271 [00:48<00:00,  5.60it/s]\n",
      "/usr/local/lib/python3.6/dist-packages/sklearn/metrics/_classification.py:1248: UndefinedMetricWarning: Precision and F-score are ill-defined and being set to 0.0 in labels with no predicted samples. Use `zero_division` parameter to control this behavior.\n",
      "  _warn_prf(average, modifier, msg_start, len(result))\n",
      "/usr/local/lib/python3.6/dist-packages/sklearn/metrics/_classification.py:1248: UndefinedMetricWarning: Precision and F-score are ill-defined and being set to 0.0 in labels with no predicted samples. Use `zero_division` parameter to control this behavior.\n",
      "  _warn_prf(average, modifier, msg_start, len(result))\n",
      "/usr/local/lib/python3.6/dist-packages/sklearn/metrics/_classification.py:1248: UndefinedMetricWarning: Precision and F-score are ill-defined and being set to 0.0 in labels with no predicted samples. Use `zero_division` parameter to control this behavior.\n",
      "  _warn_prf(average, modifier, msg_start, len(result))\n"
     ]
    }
   ],
   "source": [
    "x = []\n",
    "y = []\n",
    "for i in range(-7, 6):\n",
    "    T = 10**(i/5)\n",
    "    print(T)\n",
    "    x.append(T)\n",
    "    y.append(eval(T))"
   ]
  },
  {
   "cell_type": "code",
   "execution_count": 87,
   "metadata": {},
   "outputs": [
    {
     "data": {
      "image/png": "[encoded data removed]",
      "text/plain": [
       "<Figure size 648x432 with 1 Axes>"
      ]
     },
     "metadata": {
      "needs_background": "light"
     },
     "output_type": "display_data"
    }
   ],
   "source": [
    "fig, ax = plt.subplots(figsize = (9,6))\n",
    "ax.scatter(x, y)\n",
    "ax.set_xscale(\"log\")\n",
    "ax.set_title(\"SQUAD F-1 Score vs Initial T\", fontsize=20)\n",
    "ax.set_xlabel(\"Initial T\", fontsize=15)\n",
    "ax.set_ylabel(\"F-1 Score\", fontsize=15)\n",
    "plt.xticks(fontsize=15)\n",
    "plt.yticks(fontsize=15)\n",
    "plt.show()"
   ]
  },
  {
   "cell_type": "code",
   "execution_count": 49,
   "metadata": {},
   "outputs": [
    {
     "name": "stderr",
     "output_type": "stream",
     "text": [
      "100%|██████████| 11858/11858 [01:11<00:00, 165.54it/s]\n",
      "/usr/local/lib/python3.6/dist-packages/sklearn/metrics/_classification.py:1248: UndefinedMetricWarning: Precision and F-score are ill-defined and being set to 0.0 in labels with no predicted samples. Use `zero_division` parameter to control this behavior.\n",
      "  _warn_prf(average, modifier, msg_start, len(result))\n",
      "/usr/local/lib/python3.6/dist-packages/sklearn/metrics/_classification.py:1248: UndefinedMetricWarning: Precision and F-score are ill-defined and being set to 0.0 in labels with no predicted samples. Use `zero_division` parameter to control this behavior.\n",
      "  _warn_prf(average, modifier, msg_start, len(result))\n",
      "/usr/local/lib/python3.6/dist-packages/sklearn/metrics/_classification.py:1248: UndefinedMetricWarning: Precision and F-score are ill-defined and being set to 0.0 in labels with no predicted samples. Use `zero_division` parameter to control this behavior.\n",
      "  _warn_prf(average, modifier, msg_start, len(result))\n"
     ]
    },
    {
     "data": {
      "text/plain": [
       "0.54493587638033"
      ]
     },
     "execution_count": 49,
     "metadata": {},
     "output_type": "execute_result"
    }
   ],
   "source": [
    "eval(0.1)"
   ]
  },
  {
   "cell_type": "code",
   "execution_count": 38,
   "metadata": {},
   "outputs": [
    {
     "name": "stdout",
     "output_type": "stream",
     "text": [
      "[[0, 1, 2, 3, 4, 5, 6, 7, 8, 9, 10, 11, 12, 13, 14, 15, 16, 17, 18, 19, 20, 21, 22, 23, 24, 25, 26, 27, 28, 29, 30, 31, 32, 33, 34, 35, 36, 37, 38, 39, 40, 41, 42, 43, 44, 45, 46, 47, 48, 49, 50, 51, 52, 53, 54, 55, 56, 57, 58, 59, 60, 61, 62, 63, 64, 65, 66, 67, 68, 69, 70, 71, 72, 73, 74, 75, 76, 77, 78, 79, 80, 81, 82, 83, 84, 85, 86, 87, 88, 89, 90, 91, 92, 93, 94, 95, 96, 97, 98, 99]]\n"
     ]
    },
    {
     "name": "stderr",
     "output_type": "stream",
     "text": [
      "100%|██████████| 1/1 [00:00<00:00, 21.06it/s]"
     ]
    },
    {
     "name": "stdout",
     "output_type": "stream",
     "text": [
      "1 65\n",
      "2 16\n",
      "3 47\n",
      "4 10\n",
      "5 20\n",
      "6 5\n",
      "7 29\n",
      "8 27\n",
      "9 72\n",
      "10 46\n",
      "11 85\n",
      "12 0\n",
      "13 79\n",
      "14 58\n",
      "15 90\n",
      "16 4\n",
      "17 23\n",
      "18 83\n",
      "19 68\n",
      "20 25\n",
      "21 21\n",
      "22 33\n",
      "23 99\n",
      "24 37\n",
      "25 81\n",
      "26 7\n",
      "27 62\n",
      "28 11\n",
      "29 32\n",
      "30 71\n",
      "31 9\n",
      "32 14\n",
      "33 53\n",
      "34 28\n",
      "35 66\n",
      "36 74\n",
      "37 60\n",
      "38 30\n",
      "39 51\n",
      "40 63\n",
      "41 49\n",
      "42 75\n",
      "43 39\n",
      "44 42\n",
      "45 56\n",
      "46 18\n",
      "47 36\n",
      "48 52\n",
      "49 40\n",
      "50 13\n",
      "51 96\n",
      "52 8\n",
      "53 91\n",
      "54 82\n",
      "55 87\n",
      "56 84\n",
      "57 43\n",
      "58 55\n",
      "59 86\n",
      "60 95\n",
      "61 35\n",
      "62 6\n",
      "63 22\n",
      "64 15\n",
      "65 54\n",
      "66 24\n",
      "67 94\n",
      "68 73\n",
      "69 57\n",
      "70 31\n",
      "71 93\n",
      "72 70\n",
      "73 1\n",
      "74 77\n",
      "75 69\n",
      "76 34\n",
      "77 3\n",
      "78 78\n",
      "79 76\n",
      "80 50\n",
      "81 26\n",
      "82 41\n",
      "83 67\n",
      "84 48\n",
      "85 64\n",
      "86 17\n",
      "87 2\n",
      "88 98\n",
      "89 38\n",
      "90 89\n",
      "91 97\n",
      "92 44\n",
      "93 88\n",
      "94 12\n",
      "95 92\n",
      "96 61\n",
      "97 80\n",
      "98 45\n",
      "99 19\n",
      "100 59\n"
     ]
    },
    {
     "name": "stderr",
     "output_type": "stream",
     "text": [
      "\n"
     ]
    }
   ],
   "source": [
    "#SYNTHESIS DPR\n",
    "y_pred = []\n",
    "y_label = []\n",
    "batch_conf = []\n",
    "batch_acc = []\n",
    "increments = 10\n",
    "bins = {i/increments: {\"confs\": [], \"acc\": 0} for i in range(1, increments+1)}\n",
    "temp = 1\n",
    "step = 0.01\n",
    "print(rows)\n",
    "for i in tqdm(range(len(rows))):\n",
    "    c_embeds = []\n",
    "    q_embeds = []\n",
    "    preds = []\n",
    "    for d in range(len(phrase_lens)):\n",
    "        query, context, ixs, label = datasets[d][i]\n",
    "        c_embeds.append(context)\n",
    "        q_embeds.append(query)\n",
    "    pred = syn_DPR(phrase_lens, q_embeds, c_embeds, ixs, temp)\n",
    "    for j in range(len(pred)):\n",
    "        print(j+1, pred[j])\n",
    "    # update_bins(bins, [pred], [conf], increments, label)\n",
    "    # y_pred.append(int(pred))\n",
    "    # y_label.append(int(label))\n",
    "    # if i%int(len(rows)/10)== 0 and i != 0:\n",
    "    #     loss, grad = calc_bin_loss(bins)\n",
    "    #     temp += float(step*grad)\n",
    "    #     bins = {i/increments: {\"confs\": [], \"acc\": 0} for i in range(1, increments+1)}\n",
    "    #     print(i, loss)\n",
    "# print(\"FINAL TEMP:\", temp)\n",
    "# print(classification_report(y_label, y_pred, digits=4))\n"
   ]
  },
  {
   "cell_type": "code",
   "execution_count": 78,
   "metadata": {},
   "outputs": [
    {
     "name": "stdout",
     "output_type": "stream",
     "text": [
      "100\n"
     ]
    }
   ],
   "source": [
    "print(len(datasets[2].context_embeds))"
   ]
  },
  {
   "cell_type": "code",
   "execution_count": null,
   "metadata": {},
   "outputs": [],
   "source": []
  }
 ],
 "metadata": {
  "kernelspec": {
   "display_name": "Python 3.8.9 64-bit",
   "language": "python",
   "name": "python3"
  },
  "language_info": {
   "codemirror_mode": {
    "name": "ipython",
    "version": 3
   },
   "file_extension": ".py",
   "mimetype": "text/x-python",
   "name": "python",
   "nbconvert_exporter": "python",
   "pygments_lexer": "ipython3",
   "version": "3.8.9"
  },
  "orig_nbformat": 4,
  "vscode": {
   "interpreter": {
    "hash": "31f2aee4e71d21fbe5cf8b01ff0e069b9275f58929596ceb00d14d90e3e16cd6"
   }
  }
 },
 "nbformat": 4,
 "nbformat_minor": 2
}
